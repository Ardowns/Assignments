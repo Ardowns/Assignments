{
 "cells": [
  {
   "cell_type": "markdown",
   "metadata": {
    "deletable": false,
    "editable": false,
    "nbgrader": {
     "checksum": "abc339b6ca540d7920774ac4405f3f20",
     "grade": false,
     "grade_id": "title",
     "locked": true,
     "schema_version": 1,
     "solution": false
    }
   },
   "source": [
    "# COGS 108 - Assignment 3: Data Privacy\n",
    "\n",
    "### Written By: Liz Izhikevich and Harshita Mangal"
   ]
  },
  {
   "cell_type": "markdown",
   "metadata": {
    "deletable": false,
    "editable": false,
    "nbgrader": {
     "checksum": "e7ab4146bbbf02d8f48742dc8aec0a82",
     "grade": false,
     "grade_id": "important",
     "locked": true,
     "schema_version": 1,
     "solution": false
    }
   },
   "source": [
    "## Important\n",
    "\n",
    "- Rename this file to 'A3_A########.ipynb' (filled in with your student ID) before you submit it. Submit it to TritonED.\n",
    "- Do not change / update / delete any existing cells with 'assert' in them. These are the tests used to check your assignment. \n",
    "    - Changing these will be flagged for attempted cheating. \n",
    "- This assignment has hidden tests: tests that are not visible here, but that will be run on your submitted. \n",
    "    - This means passing all the tests you can see in the notebook here does not guarantee you have the right answer!"
   ]
  },
  {
   "cell_type": "markdown",
   "metadata": {
    "deletable": false,
    "editable": false,
    "nbgrader": {
     "checksum": "bf064578a1f8b26a3b5ac9a3e898c836",
     "grade": false,
     "grade_id": "overview",
     "locked": true,
     "schema_version": 1,
     "solution": false
    }
   },
   "source": [
    "## Overview\n",
    "\n",
    "We have discussed in lecture the importance and the mechanics of protecting individuals privacy when they are included in datasets. In particular, in Lecture 11 (April 26th) we introduced the concept of the Safe Harbor Method. The Safe Harbour method specifies how to protect individual's identities by telling us which tells us which information to remove from a dataset in order to avoid accidently disclosing personal information. \n",
    "\n",
    "In this assignment, we will explore how identity can be decoded from badly anonymized datasets, and also explore using Safe Harbour to anonymize datasets properly. "
   ]
  },
  {
   "cell_type": "markdown",
   "metadata": {
    "deletable": false,
    "editable": false,
    "nbgrader": {
     "checksum": "d920e67e4f7b02e6571cc534b15661f1",
     "grade": false,
     "grade_id": "imports",
     "locked": true,
     "schema_version": 1,
     "solution": false
    }
   },
   "source": [
    "### Import Statements"
   ]
  },
  {
   "cell_type": "code",
   "execution_count": 1,
   "metadata": {
    "collapsed": false,
    "deletable": false,
    "editable": false,
    "nbgrader": {
     "checksum": "791da343a26c1ddd9533c3c4b54336e4",
     "grade": false,
     "grade_id": "import-code",
     "locked": true,
     "schema_version": 1,
     "solution": false
    }
   },
   "outputs": [],
   "source": [
    "# Import Pandas\n",
    "# Note: Pandas is all you need! Do not import any other functions / packages.\n",
    "import pandas as pd"
   ]
  },
  {
   "cell_type": "markdown",
   "metadata": {
    "deletable": false,
    "editable": false,
    "nbgrader": {
     "checksum": "6a61ea7b5396a92e5eb17145fac8cb78",
     "grade": false,
     "grade_id": "p1-title",
     "locked": true,
     "schema_version": 1,
     "solution": false
    }
   },
   "source": [
    "## Part 1: Identifying Data"
   ]
  },
  {
   "cell_type": "markdown",
   "metadata": {
    "deletable": false,
    "editable": false,
    "nbgrader": {
     "checksum": "4296e9303d0b9997e5919024b4dc1734",
     "grade": false,
     "grade_id": "p1-desc",
     "locked": true,
     "schema_version": 1,
     "solution": false
    }
   },
   "source": [
    "Data Files:\n",
    "- anon_user_dat.json\n",
    "- employee_info.json\n",
    "\n",
    "You will first be working with a file called 'anon_user_dat.json'. This file that contains information about some (fake) Tinder users. When creating an account, each Tinder user was asked to provide their first name, last name, work email (to verify the disclosed workplace), age, gender, phone # and zip code. Before releasing this data, a data scientist cleaned the data to protect the privacy of Tinder's users by removing the obvious personal identifiers: phone #, zip code, and IP address. However, the data scientist chose to keep each users' email addresses because when they visually skimmed a couple of the email addresses none of them seemed to have any of the user's actual names in them. This is where the data scientist made a huge mistake!\n",
    "\n",
    "We will take advantage of having the work email addresses by finding the employee information of different companies and matching that employee information with the information we have, in order to identify the names of the secret Tinder users!"
   ]
  },
  {
   "cell_type": "code",
   "execution_count": 2,
   "metadata": {
    "collapsed": false,
    "deletable": false,
    "nbgrader": {
     "checksum": "ce17aa4fbf31c2dbf722d20e74e17d9b",
     "grade": false,
     "grade_id": "1a",
     "locked": false,
     "schema_version": 1,
     "solution": true
    }
   },
   "outputs": [],
   "source": [
    "##################################\n",
    "# 1a) Load in the 'cleaned' data #\n",
    "##################################\n",
    "\n",
    "# Load the json file into a pandas dataframe. Call it 'df_personal'.\n",
    "\n",
    "# YOUR CODE HERE\n",
    "jsonfile = 'anon_user_dat.json'\n",
    "df_personal = pd.read_json(jsonfile)"
   ]
  },
  {
   "cell_type": "code",
   "execution_count": 3,
   "metadata": {
    "collapsed": false,
    "deletable": false,
    "editable": false,
    "nbgrader": {
     "checksum": "61909bf161ee3e26eaca9c2f1a52fd41",
     "grade": true,
     "grade_id": "1a-tests",
     "locked": true,
     "points": 0.5,
     "schema_version": 1,
     "solution": false
    }
   },
   "outputs": [],
   "source": [
    "assert isinstance(df_personal, pd.DataFrame)\n",
    "\n",
    "\n"
   ]
  },
  {
   "cell_type": "code",
   "execution_count": 4,
   "metadata": {
    "collapsed": false,
    "deletable": false,
    "nbgrader": {
     "checksum": "a4d2eeef6828d55c54ca8b44ef32c3eb",
     "grade": false,
     "grade_id": "1b",
     "locked": false,
     "schema_version": 1,
     "solution": true
    }
   },
   "outputs": [],
   "source": [
    "#################################\n",
    "# 1b) Check the first 10 emails #\n",
    "#################################\n",
    "\n",
    "# Save the first 10 emails to a Series, and call it 'sample_emails'. \n",
    "# You should then and print out this Series. \n",
    "# The purpose of this is to get a sense of how these work emails are structured\n",
    "#   and how we could possibly extract where each anonymous user seems to work\n",
    "\n",
    "# YOUR CODE HERE\n",
    "sample_emails = df_personal['email'].head(10)\n",
    "#print (sample_emails)"
   ]
  },
  {
   "cell_type": "code",
   "execution_count": 5,
   "metadata": {
    "collapsed": false,
    "deletable": false,
    "editable": false,
    "nbgrader": {
     "checksum": "2159c6a677909826c6dae27516ff8140",
     "grade": true,
     "grade_id": "1b-tests",
     "locked": true,
     "points": 1,
     "schema_version": 1,
     "solution": false
    }
   },
   "outputs": [],
   "source": [
    "assert isinstance(sample_emails, pd.Series)\n"
   ]
  },
  {
   "cell_type": "code",
   "execution_count": 6,
   "metadata": {
    "collapsed": false,
    "deletable": false,
    "nbgrader": {
     "checksum": "ef100fd5d742f37140f873d7b26ecdfa",
     "grade": false,
     "grade_id": "1c",
     "locked": false,
     "schema_version": 1,
     "solution": true
    }
   },
   "outputs": [
    {
     "data": {
      "text/plain": [
       "'seattletimes'"
      ]
     },
     "execution_count": 6,
     "metadata": {},
     "output_type": "execute_result"
    }
   ],
   "source": [
    "###############################################\n",
    "# 1c) Extract the Company Name From the Email #\n",
    "###############################################\n",
    "\n",
    "# Create a function with the following specifications:\n",
    "#   Function Name: extract_company\n",
    "#   Purpose: to extract the company of the email \n",
    "#          (i.e., everything after the @ sign but before the .com )\n",
    "#   Parameter(s): email (string)\n",
    "#   Returns: The extracted part of the email (string)\n",
    "#   Hint: This should take 1 line of code. Look into the find('') method. \n",
    "#\n",
    "# You can start with this outline:\n",
    "#   def extract_company(email):\n",
    "#      return \n",
    "#\n",
    "# Example Usage: \n",
    "#   extract_company(\"larhe@uber.com\") should return \"uber\"\n",
    "\n",
    "# YOUR CODE HERE\n",
    "def extract_company(email) :\n",
    "    email1 = email.find('@')+1\n",
    "    email2 = email.find('.')\n",
    "    return email[email1 : email2]\n",
    "extract_company ('gshoreson0@seattletimes.com')"
   ]
  },
  {
   "cell_type": "code",
   "execution_count": 7,
   "metadata": {
    "collapsed": false,
    "deletable": false,
    "editable": false,
    "nbgrader": {
     "checksum": "06225023bd1fad52a5f8e084753af2fb",
     "grade": true,
     "grade_id": "1c-tests",
     "locked": true,
     "points": 1,
     "schema_version": 1,
     "solution": false
    }
   },
   "outputs": [],
   "source": [
    "assert extract_company(\"gshoreson0@seattletimes.com\") == \"seattletimes\"\n"
   ]
  },
  {
   "cell_type": "markdown",
   "metadata": {
    "deletable": false,
    "editable": false,
    "nbgrader": {
     "checksum": "2ef7d9e3ecb79343b5b35d3aa70891a8",
     "grade": false,
     "grade_id": "info",
     "locked": true,
     "schema_version": 1,
     "solution": false
    }
   },
   "source": [
    "With a little bit of basic sleuthing (aka googling) and web-scraping (aka selectively reading in html code) it turns out that you've been able to collect information about all the present employees/interns of the companies you are interested in. Specifically, on each company website, you have found the name, gender, and age of its employees. You have saved that info in employee_info.json and plan to see if, using this new information, you can match the Tinder accounts to actual names."
   ]
  },
  {
   "cell_type": "code",
   "execution_count": 8,
   "metadata": {
    "collapsed": false,
    "deletable": false,
    "nbgrader": {
     "checksum": "816309ca8d4491647357272e451d2d21",
     "grade": false,
     "grade_id": "1d",
     "locked": false,
     "schema_version": 1,
     "solution": true
    }
   },
   "outputs": [],
   "source": [
    "#############################\n",
    "# 1d) Load in employee data #\n",
    "#############################\n",
    "\n",
    "# Load the json file into a pandas dataframe. Call it 'df_employee'.\n",
    "\n",
    "# YOUR CODE HERE\n",
    "jsonfile = 'employee_info.json'\n",
    "df_employee = pd.read_json(jsonfile)"
   ]
  },
  {
   "cell_type": "code",
   "execution_count": 9,
   "metadata": {
    "collapsed": true,
    "deletable": false,
    "editable": false,
    "nbgrader": {
     "checksum": "b64b2af268605bdd46803cecda26a862",
     "grade": true,
     "grade_id": "1d-tests",
     "locked": true,
     "points": 0.5,
     "schema_version": 1,
     "solution": false
    }
   },
   "outputs": [],
   "source": [
    "assert isinstance(df_personal, pd.DataFrame)\n"
   ]
  },
  {
   "cell_type": "code",
   "execution_count": 10,
   "metadata": {
    "collapsed": false,
    "deletable": false,
    "nbgrader": {
     "checksum": "2ad1a50342907d01fad1e4ad55a8240c",
     "grade": false,
     "grade_id": "1e",
     "locked": false,
     "schema_version": 1,
     "solution": true
    }
   },
   "outputs": [],
   "source": [
    "#########################################################\n",
    "# 1e) Match the employee name with company, age, gender #\n",
    "#########################################################\n",
    "\n",
    "# Create a function with the following specifications:\n",
    "#   Function name: employee_matcher\n",
    "#   Purpose: to match the employee name with the provided company, age, and gender\n",
    "#   Parameter(s): company (string), age (int), gender (string)\n",
    "#   Returns: The employee first_name and last_name like this: return first_name, last_name \n",
    "#   Note: If there are multiple employees that fit the same description, first_name and \n",
    "#         last_name should return a list of all possible first names and last name\n",
    "#         i.e., ['Desmund', 'Kelby'], ['Shepley', 'Tichner']\n",
    "#\n",
    "# Hint:\n",
    "# There are many different ways to code this.\n",
    "# 1) An unelegant solution is to loop through df_employee \n",
    "#    and for each data item see if the company, age, and gender match\n",
    "#    i.e., for i in range(0, len(df_employee)):\n",
    "#              if (company == df_employee.ix[i,'company']):\n",
    "#\n",
    "# However! The solution above is very inefficient and long, \n",
    "# so you should try to look into this:\n",
    "# 2) Google the df.loc method: It extracts pieces of the dataframe\n",
    "#    if it fulfills a certain condition.\n",
    "#    i.e., df_employee.loc[df_employee['company'] == company]\n",
    "#    If you need to convert your pandas data series into a list,\n",
    "#    you can do list(result) where result is a pandas \"series\"\n",
    "# \n",
    "# You can start with this outline:\n",
    "#   def employee_matcher(company, age, gender):\n",
    "#      return first_name, last_name\n",
    "\n",
    "# YOUR CODE HERE\n",
    "def employee_matcher(company, age, gender):\n",
    "    a1 = df_employee.loc[(df_employee['company']==company) & (df_employee['age']==age) & (df_employee['gender']==gender), \"first_name\"]\n",
    "    a2 = df_employee.loc[(df_employee['company']==company) & (df_employee['age']==age) & (df_employee['gender']==gender), \"last_name\"]\n",
    "    first_name = list(a1)\n",
    "    last_name = list(a2)\n",
    "    return first_name, last_name\n",
    "    "
   ]
  },
  {
   "cell_type": "code",
   "execution_count": 11,
   "metadata": {
    "collapsed": false,
    "deletable": false,
    "editable": false,
    "nbgrader": {
     "checksum": "18a1d86bfe31cc6dfd249caf6674c010",
     "grade": true,
     "grade_id": "1e-tests",
     "locked": true,
     "points": 1,
     "schema_version": 1,
     "solution": false
    }
   },
   "outputs": [],
   "source": [
    "assert employee_matcher(\"google\", 41, \"Male\") == (['Ab'], ['Tetley'])\n",
    "assert employee_matcher(\"google\", 42, \"Male\") == (['Desmund', 'Kelby'],\n",
    "                                                  ['Shepley', 'Tichner'])"
   ]
  },
  {
   "cell_type": "code",
   "execution_count": 12,
   "metadata": {
    "collapsed": false,
    "deletable": false,
    "nbgrader": {
     "checksum": "7f81dbbb78da6bcc76cda520aae395b2",
     "grade": false,
     "grade_id": "1f",
     "locked": false,
     "schema_version": 1,
     "solution": true
    }
   },
   "outputs": [],
   "source": [
    "####################################\n",
    "# 1f) Extract all the private Data #\n",
    "####################################\n",
    "\n",
    "# - Create 2 empty lists called 'first_names' and 'last_names'\n",
    "# - Loop through all the people we are trying to identify in df_personal\n",
    "# - Call the extract_company function (i.e., extract_company(df_personal.ix[i, 'email']) )\n",
    "# - Call the employee_matcher function \n",
    "# - Append the results of employee_matcher to the appropriate lists (first_names and last_names)\n",
    "\n",
    "# YOUR CODE HERE\n",
    "first_names = []\n",
    "last_names =[]\n",
    "for i in range(0,len(df_personal)):\n",
    "    email = df_personal.ix[i,'email']\n",
    "    company = extract_company(email)\n",
    "    age = df_personal.ix[i, 'age']\n",
    "    gender = df_personal.ix[i, 'gender']\n",
    "    first, last = employee_matcher(company, age, gender)\n",
    "    first_names.append(first)\n",
    "    last_names.append(last)\n"
   ]
  },
  {
   "cell_type": "code",
   "execution_count": 13,
   "metadata": {
    "collapsed": false,
    "deletable": false,
    "editable": false,
    "nbgrader": {
     "checksum": "60add6c068758eb6abcaa30879d2b7af",
     "grade": true,
     "grade_id": "1f-tests",
     "locked": true,
     "points": 1,
     "schema_version": 1,
     "solution": false
    }
   },
   "outputs": [],
   "source": [
    "assert first_names[45:50]== [['Justino'], ['Tadio'], ['Kennith'], ['Cedric'], ['Amargo']]\n",
    "assert last_names[45:50] == [['Corro'], ['Blackford'], ['Milton'], ['Yggo'], ['Grigor']]"
   ]
  },
  {
   "cell_type": "code",
   "execution_count": 14,
   "metadata": {
    "collapsed": false,
    "deletable": false,
    "nbgrader": {
     "checksum": "11d3d80f6cc937d7fef82b222583b0d5",
     "grade": true,
     "grade_id": "1g",
     "locked": false,
     "points": 0,
     "schema_version": 1,
     "solution": true
    }
   },
   "outputs": [
    {
     "data": {
      "text/html": [
       "<div>\n",
       "<table border=\"1\" class=\"dataframe\">\n",
       "  <thead>\n",
       "    <tr style=\"text-align: right;\">\n",
       "      <th></th>\n",
       "      <th>age</th>\n",
       "      <th>email</th>\n",
       "      <th>gender</th>\n",
       "      <th>first_name</th>\n",
       "      <th>last_name</th>\n",
       "    </tr>\n",
       "  </thead>\n",
       "  <tbody>\n",
       "    <tr>\n",
       "      <th>0</th>\n",
       "      <td>46</td>\n",
       "      <td>gshoreson0@seattletimes.com</td>\n",
       "      <td>Male</td>\n",
       "      <td>[Gordon]</td>\n",
       "      <td>[DelaField]</td>\n",
       "    </tr>\n",
       "    <tr>\n",
       "      <th>1</th>\n",
       "      <td>56</td>\n",
       "      <td>eweaben1@salon.com</td>\n",
       "      <td>Female</td>\n",
       "      <td>[Elenore]</td>\n",
       "      <td>[Gravett]</td>\n",
       "    </tr>\n",
       "    <tr>\n",
       "      <th>2</th>\n",
       "      <td>30</td>\n",
       "      <td>akillerby2@gravatar.com</td>\n",
       "      <td>Male</td>\n",
       "      <td>[Abbe]</td>\n",
       "      <td>[Stockdale]</td>\n",
       "    </tr>\n",
       "    <tr>\n",
       "      <th>3</th>\n",
       "      <td>87</td>\n",
       "      <td>gsainz3@zdnet.com</td>\n",
       "      <td>Male</td>\n",
       "      <td>[Guido]</td>\n",
       "      <td>[Comfort]</td>\n",
       "    </tr>\n",
       "    <tr>\n",
       "      <th>4</th>\n",
       "      <td>58</td>\n",
       "      <td>bdanilewicz4@4shared.com</td>\n",
       "      <td>Male</td>\n",
       "      <td>[Brody]</td>\n",
       "      <td>[Pinckard]</td>\n",
       "    </tr>\n",
       "    <tr>\n",
       "      <th>5</th>\n",
       "      <td>39</td>\n",
       "      <td>sdeerness5@wikispaces.com</td>\n",
       "      <td>Female</td>\n",
       "      <td>[Shalne]</td>\n",
       "      <td>[Smail]</td>\n",
       "    </tr>\n",
       "    <tr>\n",
       "      <th>6</th>\n",
       "      <td>43</td>\n",
       "      <td>jstillwell6@ustream.tv</td>\n",
       "      <td>Female</td>\n",
       "      <td>[Joell]</td>\n",
       "      <td>[Bowlesworth]</td>\n",
       "    </tr>\n",
       "    <tr>\n",
       "      <th>7</th>\n",
       "      <td>37</td>\n",
       "      <td>mpriestland7@opera.com</td>\n",
       "      <td>Male</td>\n",
       "      <td>[Manfred]</td>\n",
       "      <td>[Bricket]</td>\n",
       "    </tr>\n",
       "    <tr>\n",
       "      <th>8</th>\n",
       "      <td>35</td>\n",
       "      <td>nerickssen8@hatena.ne.jp</td>\n",
       "      <td>Female</td>\n",
       "      <td>[Neille]</td>\n",
       "      <td>[McCahey]</td>\n",
       "    </tr>\n",
       "    <tr>\n",
       "      <th>9</th>\n",
       "      <td>40</td>\n",
       "      <td>hparsell9@xing.com</td>\n",
       "      <td>Male</td>\n",
       "      <td>[Henri]</td>\n",
       "      <td>[Scotchford]</td>\n",
       "    </tr>\n",
       "    <tr>\n",
       "      <th>10</th>\n",
       "      <td>9</td>\n",
       "      <td>acopasa@fda.gov</td>\n",
       "      <td>Male</td>\n",
       "      <td>[Alyosha]</td>\n",
       "      <td>[Scollan]</td>\n",
       "    </tr>\n",
       "    <tr>\n",
       "      <th>11</th>\n",
       "      <td>38</td>\n",
       "      <td>bdanielovitchb@jigsy.com</td>\n",
       "      <td>Male</td>\n",
       "      <td>[Berkie]</td>\n",
       "      <td>[Ciementini]</td>\n",
       "    </tr>\n",
       "    <tr>\n",
       "      <th>12</th>\n",
       "      <td>42</td>\n",
       "      <td>cwestbergc@psu.edu</td>\n",
       "      <td>Female</td>\n",
       "      <td>[Caresse]</td>\n",
       "      <td>[Cubbino]</td>\n",
       "    </tr>\n",
       "    <tr>\n",
       "      <th>13</th>\n",
       "      <td>39</td>\n",
       "      <td>jlarived@goodreads.com</td>\n",
       "      <td>Female</td>\n",
       "      <td>[Jo]</td>\n",
       "      <td>[Grangier]</td>\n",
       "    </tr>\n",
       "    <tr>\n",
       "      <th>14</th>\n",
       "      <td>37</td>\n",
       "      <td>mchallisse@ning.com</td>\n",
       "      <td>Female</td>\n",
       "      <td>[Marcelia]</td>\n",
       "      <td>[Dimitru]</td>\n",
       "    </tr>\n",
       "    <tr>\n",
       "      <th>15</th>\n",
       "      <td>66</td>\n",
       "      <td>cbrognotf@ebay.co.uk</td>\n",
       "      <td>Male</td>\n",
       "      <td>[Clim]</td>\n",
       "      <td>[Roddam]</td>\n",
       "    </tr>\n",
       "    <tr>\n",
       "      <th>16</th>\n",
       "      <td>79</td>\n",
       "      <td>aphearg@tumblr.com</td>\n",
       "      <td>Male</td>\n",
       "      <td>[Arnie]</td>\n",
       "      <td>[Raoux]</td>\n",
       "    </tr>\n",
       "    <tr>\n",
       "      <th>17</th>\n",
       "      <td>67</td>\n",
       "      <td>askogginsh@jugem.jp</td>\n",
       "      <td>Female</td>\n",
       "      <td>[Astrix]</td>\n",
       "      <td>[Grooby]</td>\n",
       "    </tr>\n",
       "    <tr>\n",
       "      <th>18</th>\n",
       "      <td>30</td>\n",
       "      <td>eondraseki@deviantart.com</td>\n",
       "      <td>Female</td>\n",
       "      <td>[Enriqueta]</td>\n",
       "      <td>[Raggles]</td>\n",
       "    </tr>\n",
       "    <tr>\n",
       "      <th>19</th>\n",
       "      <td>39</td>\n",
       "      <td>kcaswallj@is.gd</td>\n",
       "      <td>Female</td>\n",
       "      <td>[Kristen]</td>\n",
       "      <td>[Vennart]</td>\n",
       "    </tr>\n",
       "    <tr>\n",
       "      <th>20</th>\n",
       "      <td>22</td>\n",
       "      <td>cpetrillok@cbsnews.com</td>\n",
       "      <td>Male</td>\n",
       "      <td>[Cletis]</td>\n",
       "      <td>[Gulliman]</td>\n",
       "    </tr>\n",
       "    <tr>\n",
       "      <th>21</th>\n",
       "      <td>42</td>\n",
       "      <td>bstratfordl@ted.com</td>\n",
       "      <td>Female</td>\n",
       "      <td>[Bernadine]</td>\n",
       "      <td>[La Padula]</td>\n",
       "    </tr>\n",
       "    <tr>\n",
       "      <th>22</th>\n",
       "      <td>42</td>\n",
       "      <td>mandreichikm@shareasale.com</td>\n",
       "      <td>Male</td>\n",
       "      <td>[Mack]</td>\n",
       "      <td>[Hanwright]</td>\n",
       "    </tr>\n",
       "    <tr>\n",
       "      <th>23</th>\n",
       "      <td>56</td>\n",
       "      <td>jsegarn@sfgate.com</td>\n",
       "      <td>Male</td>\n",
       "      <td>[Jonas]</td>\n",
       "      <td>[Checci]</td>\n",
       "    </tr>\n",
       "    <tr>\n",
       "      <th>24</th>\n",
       "      <td>64</td>\n",
       "      <td>aurridgeo@purevolume.com</td>\n",
       "      <td>Male</td>\n",
       "      <td>[Antoine]</td>\n",
       "      <td>[Lukovic]</td>\n",
       "    </tr>\n",
       "    <tr>\n",
       "      <th>25</th>\n",
       "      <td>58</td>\n",
       "      <td>njandap@ebay.com</td>\n",
       "      <td>Male</td>\n",
       "      <td>[Nichols, Nikolos]</td>\n",
       "      <td>[Flintoffe, Wressell]</td>\n",
       "    </tr>\n",
       "    <tr>\n",
       "      <th>26</th>\n",
       "      <td>44</td>\n",
       "      <td>lwathallq@exblog.jp</td>\n",
       "      <td>Female</td>\n",
       "      <td>[Lorie]</td>\n",
       "      <td>[Jeskin]</td>\n",
       "    </tr>\n",
       "    <tr>\n",
       "      <th>27</th>\n",
       "      <td>62</td>\n",
       "      <td>aoveringtonr@canalblog.com</td>\n",
       "      <td>Female</td>\n",
       "      <td>[Alissa]</td>\n",
       "      <td>[Ganforthe]</td>\n",
       "    </tr>\n",
       "    <tr>\n",
       "      <th>28</th>\n",
       "      <td>45</td>\n",
       "      <td>dbrellins@ft.com</td>\n",
       "      <td>Female</td>\n",
       "      <td>[Dona]</td>\n",
       "      <td>[Dumberell]</td>\n",
       "    </tr>\n",
       "    <tr>\n",
       "      <th>29</th>\n",
       "      <td>31</td>\n",
       "      <td>ebukact@toplist.cz</td>\n",
       "      <td>Female</td>\n",
       "      <td>[Essa]</td>\n",
       "      <td>[Kaveney]</td>\n",
       "    </tr>\n",
       "    <tr>\n",
       "      <th>...</th>\n",
       "      <td>...</td>\n",
       "      <td>...</td>\n",
       "      <td>...</td>\n",
       "      <td>...</td>\n",
       "      <td>...</td>\n",
       "    </tr>\n",
       "    <tr>\n",
       "      <th>970</th>\n",
       "      <td>62</td>\n",
       "      <td>dsessionsqy@sakura.ne.jp</td>\n",
       "      <td>Female</td>\n",
       "      <td>[Dehlia]</td>\n",
       "      <td>[Ades]</td>\n",
       "    </tr>\n",
       "    <tr>\n",
       "      <th>971</th>\n",
       "      <td>32</td>\n",
       "      <td>vkondratenkoqz@cornell.edu</td>\n",
       "      <td>Male</td>\n",
       "      <td>[Vick]</td>\n",
       "      <td>[Ketley]</td>\n",
       "    </tr>\n",
       "    <tr>\n",
       "      <th>972</th>\n",
       "      <td>66</td>\n",
       "      <td>tbrethertonr0@lycos.com</td>\n",
       "      <td>Female</td>\n",
       "      <td>[Tilda]</td>\n",
       "      <td>[Cossins]</td>\n",
       "    </tr>\n",
       "    <tr>\n",
       "      <th>973</th>\n",
       "      <td>67</td>\n",
       "      <td>srenfrewr1@shinystat.com</td>\n",
       "      <td>Female</td>\n",
       "      <td>[Stacey]</td>\n",
       "      <td>[Quinion]</td>\n",
       "    </tr>\n",
       "    <tr>\n",
       "      <th>974</th>\n",
       "      <td>30</td>\n",
       "      <td>jjoiceyr2@theatlantic.com</td>\n",
       "      <td>Male</td>\n",
       "      <td>[Justin]</td>\n",
       "      <td>[Bockings]</td>\n",
       "    </tr>\n",
       "    <tr>\n",
       "      <th>975</th>\n",
       "      <td>13</td>\n",
       "      <td>bborleacer3@naver.com</td>\n",
       "      <td>Male</td>\n",
       "      <td>[Beck]</td>\n",
       "      <td>[Jerrand]</td>\n",
       "    </tr>\n",
       "    <tr>\n",
       "      <th>976</th>\n",
       "      <td>30</td>\n",
       "      <td>lmackeer4@reference.com</td>\n",
       "      <td>Female</td>\n",
       "      <td>[Lilla]</td>\n",
       "      <td>[Pyffe]</td>\n",
       "    </tr>\n",
       "    <tr>\n",
       "      <th>977</th>\n",
       "      <td>64</td>\n",
       "      <td>mpaolicchir5@utexas.edu</td>\n",
       "      <td>Female</td>\n",
       "      <td>[Mellie]</td>\n",
       "      <td>[Airdrie]</td>\n",
       "    </tr>\n",
       "    <tr>\n",
       "      <th>978</th>\n",
       "      <td>63</td>\n",
       "      <td>lgaliar6@lycos.com</td>\n",
       "      <td>Female</td>\n",
       "      <td>[Myrtice, Laverne]</td>\n",
       "      <td>[Filyaev, Flint]</td>\n",
       "    </tr>\n",
       "    <tr>\n",
       "      <th>979</th>\n",
       "      <td>97</td>\n",
       "      <td>ldemcakr7@networksolutions.com</td>\n",
       "      <td>Female</td>\n",
       "      <td>[Lee]</td>\n",
       "      <td>[Vasic]</td>\n",
       "    </tr>\n",
       "    <tr>\n",
       "      <th>980</th>\n",
       "      <td>41</td>\n",
       "      <td>ide giorgior8@360.cn</td>\n",
       "      <td>Male</td>\n",
       "      <td>[Ilario]</td>\n",
       "      <td>[Mannagh]</td>\n",
       "    </tr>\n",
       "    <tr>\n",
       "      <th>981</th>\n",
       "      <td>85</td>\n",
       "      <td>mmctrustyr9@jugem.jp</td>\n",
       "      <td>Male</td>\n",
       "      <td>[Merell]</td>\n",
       "      <td>[Kop]</td>\n",
       "    </tr>\n",
       "    <tr>\n",
       "      <th>982</th>\n",
       "      <td>42</td>\n",
       "      <td>ekohnra@amazonaws.com</td>\n",
       "      <td>Male</td>\n",
       "      <td>[Elia]</td>\n",
       "      <td>[Stedmond]</td>\n",
       "    </tr>\n",
       "    <tr>\n",
       "      <th>983</th>\n",
       "      <td>73</td>\n",
       "      <td>mmillmorerb@hatena.ne.jp</td>\n",
       "      <td>Male</td>\n",
       "      <td>[Minor]</td>\n",
       "      <td>[Kynaston]</td>\n",
       "    </tr>\n",
       "    <tr>\n",
       "      <th>984</th>\n",
       "      <td>24</td>\n",
       "      <td>lchaudrellerc@soup.io</td>\n",
       "      <td>Male</td>\n",
       "      <td>[Lon]</td>\n",
       "      <td>[Dyster]</td>\n",
       "    </tr>\n",
       "    <tr>\n",
       "      <th>985</th>\n",
       "      <td>41</td>\n",
       "      <td>iavramovitzrd@ft.com</td>\n",
       "      <td>Female</td>\n",
       "      <td>[Ivy]</td>\n",
       "      <td>[Cardo]</td>\n",
       "    </tr>\n",
       "    <tr>\n",
       "      <th>986</th>\n",
       "      <td>35</td>\n",
       "      <td>rreaneyre@canalblog.com</td>\n",
       "      <td>Female</td>\n",
       "      <td>[Rory]</td>\n",
       "      <td>[Jersch]</td>\n",
       "    </tr>\n",
       "    <tr>\n",
       "      <th>987</th>\n",
       "      <td>54</td>\n",
       "      <td>sscawnrf@businessinsider.com</td>\n",
       "      <td>Male</td>\n",
       "      <td>[Sampson]</td>\n",
       "      <td>[Wrangle]</td>\n",
       "    </tr>\n",
       "    <tr>\n",
       "      <th>988</th>\n",
       "      <td>30</td>\n",
       "      <td>lharbronrg@slashdot.org</td>\n",
       "      <td>Male</td>\n",
       "      <td>[Levey]</td>\n",
       "      <td>[Towle]</td>\n",
       "    </tr>\n",
       "    <tr>\n",
       "      <th>989</th>\n",
       "      <td>34</td>\n",
       "      <td>pgurnayrh@uiuc.edu</td>\n",
       "      <td>Male</td>\n",
       "      <td>[Padgett]</td>\n",
       "      <td>[Angus]</td>\n",
       "    </tr>\n",
       "    <tr>\n",
       "      <th>990</th>\n",
       "      <td>31</td>\n",
       "      <td>ckyngeri@hp.com</td>\n",
       "      <td>Female</td>\n",
       "      <td>[Chryste]</td>\n",
       "      <td>[Kennington]</td>\n",
       "    </tr>\n",
       "    <tr>\n",
       "      <th>991</th>\n",
       "      <td>64</td>\n",
       "      <td>cboothroydrj@yellowbook.com</td>\n",
       "      <td>None</td>\n",
       "      <td>[]</td>\n",
       "      <td>[]</td>\n",
       "    </tr>\n",
       "    <tr>\n",
       "      <th>992</th>\n",
       "      <td>69</td>\n",
       "      <td>kbrunkerrk@hibu.com</td>\n",
       "      <td>Male</td>\n",
       "      <td>[Keen]</td>\n",
       "      <td>[MacDermot]</td>\n",
       "    </tr>\n",
       "    <tr>\n",
       "      <th>993</th>\n",
       "      <td>34</td>\n",
       "      <td>sleallerl@wikia.com</td>\n",
       "      <td>Female</td>\n",
       "      <td>[Selle]</td>\n",
       "      <td>[Burleton]</td>\n",
       "    </tr>\n",
       "    <tr>\n",
       "      <th>994</th>\n",
       "      <td>38</td>\n",
       "      <td>kbeefonrm@vkontakte.ru</td>\n",
       "      <td>Female</td>\n",
       "      <td>[Karylin]</td>\n",
       "      <td>[Crosbie]</td>\n",
       "    </tr>\n",
       "    <tr>\n",
       "      <th>995</th>\n",
       "      <td>73</td>\n",
       "      <td>pstroulgerrn@time.com</td>\n",
       "      <td>Female</td>\n",
       "      <td>[Penelopa]</td>\n",
       "      <td>[Roman]</td>\n",
       "    </tr>\n",
       "    <tr>\n",
       "      <th>996</th>\n",
       "      <td>46</td>\n",
       "      <td>kbasnettro@seattletimes.com</td>\n",
       "      <td>Female</td>\n",
       "      <td>[Kandy]</td>\n",
       "      <td>[Cossam]</td>\n",
       "    </tr>\n",
       "    <tr>\n",
       "      <th>997</th>\n",
       "      <td>55</td>\n",
       "      <td>pmortlockrp@liveinternet.ru</td>\n",
       "      <td>Male</td>\n",
       "      <td>[Paco]</td>\n",
       "      <td>[Weatherburn]</td>\n",
       "    </tr>\n",
       "    <tr>\n",
       "      <th>998</th>\n",
       "      <td>58</td>\n",
       "      <td>sphetterq@toplist.cz</td>\n",
       "      <td>Male</td>\n",
       "      <td>[Sammy]</td>\n",
       "      <td>[Dymick]</td>\n",
       "    </tr>\n",
       "    <tr>\n",
       "      <th>999</th>\n",
       "      <td>26</td>\n",
       "      <td>jtyresrr@slashdot.org</td>\n",
       "      <td>Male</td>\n",
       "      <td>[Josiah]</td>\n",
       "      <td>[Ayshford]</td>\n",
       "    </tr>\n",
       "  </tbody>\n",
       "</table>\n",
       "<p>1000 rows × 5 columns</p>\n",
       "</div>"
      ],
      "text/plain": [
       "     age                           email  gender          first_name  \\\n",
       "0     46     gshoreson0@seattletimes.com    Male            [Gordon]   \n",
       "1     56              eweaben1@salon.com  Female           [Elenore]   \n",
       "2     30         akillerby2@gravatar.com    Male              [Abbe]   \n",
       "3     87               gsainz3@zdnet.com    Male             [Guido]   \n",
       "4     58        bdanilewicz4@4shared.com    Male             [Brody]   \n",
       "5     39       sdeerness5@wikispaces.com  Female            [Shalne]   \n",
       "6     43          jstillwell6@ustream.tv  Female             [Joell]   \n",
       "7     37          mpriestland7@opera.com    Male           [Manfred]   \n",
       "8     35        nerickssen8@hatena.ne.jp  Female            [Neille]   \n",
       "9     40              hparsell9@xing.com    Male             [Henri]   \n",
       "10     9                 acopasa@fda.gov    Male           [Alyosha]   \n",
       "11    38        bdanielovitchb@jigsy.com    Male            [Berkie]   \n",
       "12    42              cwestbergc@psu.edu  Female           [Caresse]   \n",
       "13    39          jlarived@goodreads.com  Female                [Jo]   \n",
       "14    37             mchallisse@ning.com  Female          [Marcelia]   \n",
       "15    66            cbrognotf@ebay.co.uk    Male              [Clim]   \n",
       "16    79              aphearg@tumblr.com    Male             [Arnie]   \n",
       "17    67             askogginsh@jugem.jp  Female            [Astrix]   \n",
       "18    30       eondraseki@deviantart.com  Female         [Enriqueta]   \n",
       "19    39                 kcaswallj@is.gd  Female           [Kristen]   \n",
       "20    22          cpetrillok@cbsnews.com    Male            [Cletis]   \n",
       "21    42             bstratfordl@ted.com  Female         [Bernadine]   \n",
       "22    42     mandreichikm@shareasale.com    Male              [Mack]   \n",
       "23    56              jsegarn@sfgate.com    Male             [Jonas]   \n",
       "24    64        aurridgeo@purevolume.com    Male           [Antoine]   \n",
       "25    58                njandap@ebay.com    Male  [Nichols, Nikolos]   \n",
       "26    44             lwathallq@exblog.jp  Female             [Lorie]   \n",
       "27    62      aoveringtonr@canalblog.com  Female            [Alissa]   \n",
       "28    45                dbrellins@ft.com  Female              [Dona]   \n",
       "29    31              ebukact@toplist.cz  Female              [Essa]   \n",
       "..   ...                             ...     ...                 ...   \n",
       "970   62        dsessionsqy@sakura.ne.jp  Female            [Dehlia]   \n",
       "971   32      vkondratenkoqz@cornell.edu    Male              [Vick]   \n",
       "972   66         tbrethertonr0@lycos.com  Female             [Tilda]   \n",
       "973   67        srenfrewr1@shinystat.com  Female            [Stacey]   \n",
       "974   30       jjoiceyr2@theatlantic.com    Male            [Justin]   \n",
       "975   13           bborleacer3@naver.com    Male              [Beck]   \n",
       "976   30         lmackeer4@reference.com  Female             [Lilla]   \n",
       "977   64         mpaolicchir5@utexas.edu  Female            [Mellie]   \n",
       "978   63              lgaliar6@lycos.com  Female  [Myrtice, Laverne]   \n",
       "979   97  ldemcakr7@networksolutions.com  Female               [Lee]   \n",
       "980   41            ide giorgior8@360.cn    Male            [Ilario]   \n",
       "981   85            mmctrustyr9@jugem.jp    Male            [Merell]   \n",
       "982   42           ekohnra@amazonaws.com    Male              [Elia]   \n",
       "983   73        mmillmorerb@hatena.ne.jp    Male             [Minor]   \n",
       "984   24           lchaudrellerc@soup.io    Male               [Lon]   \n",
       "985   41            iavramovitzrd@ft.com  Female               [Ivy]   \n",
       "986   35         rreaneyre@canalblog.com  Female              [Rory]   \n",
       "987   54    sscawnrf@businessinsider.com    Male           [Sampson]   \n",
       "988   30         lharbronrg@slashdot.org    Male             [Levey]   \n",
       "989   34              pgurnayrh@uiuc.edu    Male           [Padgett]   \n",
       "990   31                 ckyngeri@hp.com  Female           [Chryste]   \n",
       "991   64     cboothroydrj@yellowbook.com    None                  []   \n",
       "992   69             kbrunkerrk@hibu.com    Male              [Keen]   \n",
       "993   34             sleallerl@wikia.com  Female             [Selle]   \n",
       "994   38          kbeefonrm@vkontakte.ru  Female           [Karylin]   \n",
       "995   73           pstroulgerrn@time.com  Female          [Penelopa]   \n",
       "996   46     kbasnettro@seattletimes.com  Female             [Kandy]   \n",
       "997   55     pmortlockrp@liveinternet.ru    Male              [Paco]   \n",
       "998   58            sphetterq@toplist.cz    Male             [Sammy]   \n",
       "999   26           jtyresrr@slashdot.org    Male            [Josiah]   \n",
       "\n",
       "                 last_name  \n",
       "0              [DelaField]  \n",
       "1                [Gravett]  \n",
       "2              [Stockdale]  \n",
       "3                [Comfort]  \n",
       "4               [Pinckard]  \n",
       "5                  [Smail]  \n",
       "6            [Bowlesworth]  \n",
       "7                [Bricket]  \n",
       "8                [McCahey]  \n",
       "9             [Scotchford]  \n",
       "10               [Scollan]  \n",
       "11            [Ciementini]  \n",
       "12               [Cubbino]  \n",
       "13              [Grangier]  \n",
       "14               [Dimitru]  \n",
       "15                [Roddam]  \n",
       "16                 [Raoux]  \n",
       "17                [Grooby]  \n",
       "18               [Raggles]  \n",
       "19               [Vennart]  \n",
       "20              [Gulliman]  \n",
       "21             [La Padula]  \n",
       "22             [Hanwright]  \n",
       "23                [Checci]  \n",
       "24               [Lukovic]  \n",
       "25   [Flintoffe, Wressell]  \n",
       "26                [Jeskin]  \n",
       "27             [Ganforthe]  \n",
       "28             [Dumberell]  \n",
       "29               [Kaveney]  \n",
       "..                     ...  \n",
       "970                 [Ades]  \n",
       "971               [Ketley]  \n",
       "972              [Cossins]  \n",
       "973              [Quinion]  \n",
       "974             [Bockings]  \n",
       "975              [Jerrand]  \n",
       "976                [Pyffe]  \n",
       "977              [Airdrie]  \n",
       "978       [Filyaev, Flint]  \n",
       "979                [Vasic]  \n",
       "980              [Mannagh]  \n",
       "981                  [Kop]  \n",
       "982             [Stedmond]  \n",
       "983             [Kynaston]  \n",
       "984               [Dyster]  \n",
       "985                [Cardo]  \n",
       "986               [Jersch]  \n",
       "987              [Wrangle]  \n",
       "988                [Towle]  \n",
       "989                [Angus]  \n",
       "990           [Kennington]  \n",
       "991                     []  \n",
       "992            [MacDermot]  \n",
       "993             [Burleton]  \n",
       "994              [Crosbie]  \n",
       "995                [Roman]  \n",
       "996               [Cossam]  \n",
       "997          [Weatherburn]  \n",
       "998               [Dymick]  \n",
       "999             [Ayshford]  \n",
       "\n",
       "[1000 rows x 5 columns]"
      ]
     },
     "execution_count": 14,
     "metadata": {},
     "output_type": "execute_result"
    }
   ],
   "source": [
    "#######################################################\n",
    "# 1g) Add the names to the original 'secure' dataset! #\n",
    "#######################################################\n",
    "\n",
    "# We have done this last step for you below, all you should do is uncomment.\n",
    "# For your own personal enjoyment, you should also print out\n",
    "#   the new df_personal with the identified people. \n",
    "\n",
    "df_personal['first_name'] = first_names\n",
    "    \n",
    "df_personal['last_name'] = last_names\n",
    "\n",
    "df_personal"
   ]
  },
  {
   "cell_type": "markdown",
   "metadata": {
    "deletable": false,
    "editable": false,
    "nbgrader": {
     "checksum": "220e03ead46597189f618c88f0088bcc",
     "grade": false,
     "grade_id": "wrap-p1",
     "locked": true,
     "schema_version": 1,
     "solution": false
    }
   },
   "source": [
    "We have now just discovered the 'anonymous' identities of all the registered Tinder users...awkward."
   ]
  },
  {
   "cell_type": "markdown",
   "metadata": {
    "deletable": false,
    "editable": false,
    "nbgrader": {
     "checksum": "df5a8bf96e2ca03c191c433784de2834",
     "grade": false,
     "grade_id": "p2-title",
     "locked": true,
     "schema_version": 1,
     "solution": false
    }
   },
   "source": [
    "## Part 2: Anonymize Data"
   ]
  },
  {
   "cell_type": "markdown",
   "metadata": {
    "deletable": false,
    "editable": false,
    "nbgrader": {
     "checksum": "28f7733eb649c467c1e05df6a0287439",
     "grade": false,
     "grade_id": "p2-desc",
     "locked": true,
     "schema_version": 1,
     "solution": false
    }
   },
   "source": [
    "You are hopefully now convinced that with some seemingly harmless data a hacker can pretty easily discover the identities of certain users. Thus, we will now clean the original Tinder data ourselves according to the Safe Harbor Method in order to make sure that it has been *properly* cleaned..."
   ]
  },
  {
   "cell_type": "code",
   "execution_count": 15,
   "metadata": {
    "collapsed": false,
    "deletable": false,
    "nbgrader": {
     "checksum": "28b5cfeca32300230f915a81aa2a9884",
     "grade": false,
     "grade_id": "2a",
     "locked": false,
     "schema_version": 1,
     "solution": true
    }
   },
   "outputs": [],
   "source": [
    "#############################\n",
    "# 2a) Load in personal data #\n",
    "#############################\n",
    "\n",
    "# Load the user_dat.json file into a pandas dataframe. Call it 'df_users'.\n",
    "# Note: You might find that using the same method as A2 (or above) leads to an error.\n",
    "# The file has a slightly different organization. \n",
    "#   Try googling the error and finding the fix for it.\n",
    "# Hint: you can still use 'pd.read_json', you just need to add another argument.\n",
    "\n",
    "# YOUR CODE HERE\n",
    "\n",
    "df_users = pd.read_json('user_dat.json', lines=True)"
   ]
  },
  {
   "cell_type": "code",
   "execution_count": 16,
   "metadata": {
    "collapsed": false,
    "deletable": false,
    "editable": false,
    "nbgrader": {
     "checksum": "5ec60d4634be90d7f87fd0bd248755cd",
     "grade": true,
     "grade_id": "2a-tests",
     "locked": true,
     "points": 0.5,
     "schema_version": 1,
     "solution": false
    }
   },
   "outputs": [],
   "source": [
    "assert isinstance(df_users, pd.DataFrame)\n"
   ]
  },
  {
   "cell_type": "code",
   "execution_count": 17,
   "metadata": {
    "collapsed": false,
    "deletable": false,
    "nbgrader": {
     "checksum": "1504c254187561447a8ab44a7c5b889b",
     "grade": false,
     "grade_id": "2b",
     "locked": false,
     "schema_version": 1,
     "solution": true
    }
   },
   "outputs": [],
   "source": [
    "################################\n",
    "# 2b) Drop personal attributes #\n",
    "################################\n",
    "\n",
    "# Remove any personal information, following the Safe Harbour method.\n",
    "# Based on lecture 11, remove any columns from df_personal that contain personal information.\n",
    "\n",
    "# YOUR CODE HERE\n",
    "df_users = df_users.drop(['email', 'ip_address', 'first_name', 'last_name', 'phone'],axis=1)"
   ]
  },
  {
   "cell_type": "code",
   "execution_count": 18,
   "metadata": {
    "collapsed": true,
    "deletable": false,
    "editable": false,
    "nbgrader": {
     "checksum": "aaaa4402b823f36919d4953dcd89ebba",
     "grade": true,
     "grade_id": "2b-tests",
     "locked": true,
     "points": 0.5,
     "schema_version": 1,
     "solution": false
    }
   },
   "outputs": [],
   "source": [
    "assert len(df_users.columns) == 3\n"
   ]
  },
  {
   "cell_type": "code",
   "execution_count": 19,
   "metadata": {
    "collapsed": false,
    "deletable": false,
    "nbgrader": {
     "checksum": "9480a63078de6ea4631359ea4cb832aa",
     "grade": false,
     "grade_id": "2c",
     "locked": false,
     "schema_version": 1,
     "solution": true
    }
   },
   "outputs": [
    {
     "data": {
      "text/plain": [
       "(990, 3)"
      ]
     },
     "execution_count": 19,
     "metadata": {},
     "output_type": "execute_result"
    }
   ],
   "source": [
    "###################################\n",
    "# 2c) Drop ages that are above 90 #\n",
    "###################################\n",
    "\n",
    "# Safe Harbour rule C:\n",
    "#   Drop all the rows which have age greater than 90 from df_personal\n",
    "\n",
    "# YOUR CODE HERE\n",
    "df_users = df_users[df_users['age'] <= 90]\n",
    "df_users.shape"
   ]
  },
  {
   "cell_type": "code",
   "execution_count": 20,
   "metadata": {
    "collapsed": false,
    "deletable": false,
    "editable": false,
    "nbgrader": {
     "checksum": "40311cde009d27dd616174d70e573fdc",
     "grade": true,
     "grade_id": "2c-tests",
     "locked": true,
     "points": 0.5,
     "schema_version": 1,
     "solution": false
    }
   },
   "outputs": [],
   "source": [
    "assert df_users.shape==(990, 3)\n"
   ]
  },
  {
   "cell_type": "code",
   "execution_count": 21,
   "metadata": {
    "collapsed": false,
    "deletable": false,
    "nbgrader": {
     "checksum": "14b98252a58fa9a1023dcb4a45d88031",
     "grade": false,
     "grade_id": "2d",
     "locked": false,
     "schema_version": 1,
     "solution": true
    }
   },
   "outputs": [],
   "source": [
    "#############################\n",
    "# 2d) Load in zip code data #\n",
    "#############################\n",
    "\n",
    "# Load the zip_pop.csv file into a (different) pandas dataframe. Call it 'df_zip'.\n",
    "\n",
    "# YOUR CODE HERE\n",
    "df_zip = pd.read_csv('zip_pop.csv')"
   ]
  },
  {
   "cell_type": "code",
   "execution_count": 22,
   "metadata": {
    "collapsed": false,
    "deletable": false,
    "editable": false,
    "nbgrader": {
     "checksum": "78a50c8e93d6577339c9611bdd7eaaa8",
     "grade": true,
     "grade_id": "2d-tests",
     "locked": true,
     "points": 0.5,
     "schema_version": 1,
     "solution": false
    }
   },
   "outputs": [],
   "source": [
    "assert isinstance(df_zip, pd.DataFrame)\n"
   ]
  },
  {
   "cell_type": "code",
   "execution_count": 23,
   "metadata": {
    "collapsed": false,
    "deletable": false,
    "nbgrader": {
     "checksum": "482c2543666a9ca6af043fc5f0ec096f",
     "grade": false,
     "grade_id": "2e",
     "locked": false,
     "schema_version": 1,
     "solution": true
    }
   },
   "outputs": [],
   "source": [
    "###################################################\n",
    "# 2e) Sort zipcodes into \"Geographic Subdivision\" #\n",
    "###################################################\n",
    "\n",
    "# The Safe Harbour Method applies to \"Geographic Subdivisions\"\n",
    "#   as opposed to each zipcode itself. \n",
    "# Geographic Subdivision:\n",
    "#   All areas which share the first 3 digits of a zip code\n",
    "#\n",
    "# Count the total population for each geographic subdivision\n",
    "# Warning: you have to be savy with a dictionary here\n",
    "# To understand how a dictionary works, check the section materials,\n",
    "#   use google and go to discussion sections!\n",
    "#\n",
    "# Instructions: \n",
    "# - Create an empty dictionary: zip_dict = {}\n",
    "# - Loop through all the zip_codes in df_zip\n",
    "# - Create a dictionary key for the first 3 digits of a zip_code in zip_dict\n",
    "# - Continually add population counts to the key that contains the \n",
    "#     same first 3 digits of the zip code\n",
    "#\n",
    "# To extract the population you will find this code useful:\n",
    "#   population = list(df_zip.loc[df_zip['zip'] == zip_code]['population'])\n",
    "# To extract the first 3 digits of a zip_code you will find this code useful:\n",
    "#   int(str(zip_code)[:3])\n",
    "\n",
    "# YOUR CODE HERE\n",
    "zip_dict = {}\n",
    "zip_unique = []\n",
    "for zip_code in df_zip['zip']:\n",
    "    population = list(df_zip.loc[df_zip['zip'] == zip_code]['population'])[0]\n",
    "    if (zip_code not in zip_unique):\n",
    "        zip_unique.append(zip_code)\n",
    "        new_zip = int(str(zip_code)[:3])\n",
    "        zip_dict[new_zip] = zip_dict.get(new_zip,0) + population"
   ]
  },
  {
   "cell_type": "code",
   "execution_count": 24,
   "metadata": {
    "collapsed": false,
    "deletable": false,
    "editable": false,
    "nbgrader": {
     "checksum": "ca4da8e9dd23d3339d5489e32dfcf0f0",
     "grade": true,
     "grade_id": "2e-tests",
     "locked": true,
     "points": 1.25,
     "schema_version": 1,
     "solution": false
    }
   },
   "outputs": [],
   "source": [
    "assert isinstance(zip_dict, dict)\n",
    "assert zip_dict[100] == 1580423\n"
   ]
  },
  {
   "cell_type": "code",
   "execution_count": 25,
   "metadata": {
    "collapsed": false,
    "deletable": false,
    "editable": false,
    "nbgrader": {
     "checksum": "8ac6161713eab97c3bd8b8589aab70e4",
     "grade": false,
     "grade_id": "2f",
     "locked": true,
     "schema_version": 1,
     "solution": false
    }
   },
   "outputs": [],
   "source": [
    "#################################\n",
    "# 2f) Explain this Code Excerpt #\n",
    "#################################\n",
    "\n",
    "# In the cell below, explain in words what what the following line of code is doing:\n",
    "population = list(df_zip.loc[df_zip['zip'] == zip_code]['population'])"
   ]
  },
  {
   "cell_type": "code",
   "execution_count": 26,
   "metadata": {
    "collapsed": false,
    "deletable": false,
    "nbgrader": {
     "checksum": "17b0f60a5dbbbe38079a280347b8c6a3",
     "grade": true,
     "grade_id": "2f-write",
     "locked": false,
     "points": 0,
     "schema_version": 1,
     "solution": true
    }
   },
   "outputs": [
    {
     "name": "stdout",
     "output_type": "stream",
     "text": [
      "This jsut shortens the data frame in which every entry has the same zip code (i.e if zip code != zipcode, delete).\n",
      " Then you get the population column of whatever is left \n"
     ]
    }
   ],
   "source": [
    "# YOUR CODE HERE\n",
    "print (\"This jsut shortens the data frame in which every entry has the same zip code (i.e if zip code != zipcode, delete).\\n Then you get the population column of whatever is left \")"
   ]
  },
  {
   "cell_type": "code",
   "execution_count": 27,
   "metadata": {
    "collapsed": false,
    "deletable": false,
    "nbgrader": {
     "checksum": "23cc413061868af6fa45d11007a430a2",
     "grade": false,
     "grade_id": "2g",
     "locked": false,
     "schema_version": 1,
     "solution": true
    }
   },
   "outputs": [
    {
     "name": "stderr",
     "output_type": "stream",
     "text": [
      "C:\\Users\\Drew\\Anaconda3\\lib\\site-packages\\ipykernel\\__main__.py:24: SettingWithCopyWarning: \n",
      "A value is trying to be set on a copy of a slice from a DataFrame\n",
      "\n",
      "See the caveats in the documentation: http://pandas.pydata.org/pandas-docs/stable/indexing.html#indexing-view-versus-copy\n",
      "C:\\Users\\Drew\\Anaconda3\\lib\\site-packages\\ipykernel\\__main__.py:22: SettingWithCopyWarning: \n",
      "A value is trying to be set on a copy of a slice from a DataFrame\n",
      "\n",
      "See the caveats in the documentation: http://pandas.pydata.org/pandas-docs/stable/indexing.html#indexing-view-versus-copy\n"
     ]
    }
   ],
   "source": [
    "#############################\n",
    "# 2g) Masking the Zip Codes #\n",
    "#############################\n",
    "\n",
    "# Go through each user, and update their zip-code, to Safe Harbour specifications:\n",
    "#   If the user is from a zip code for the which the\n",
    "#     \"Geographic Subdivision\" is less than equal to 20000:\n",
    "#        - Change the zip code to 0 \n",
    "#   Otherwise:\n",
    "#         - Change the zip code to be only the first 3 numbers of the full zip cide\n",
    "# Do all this re-writting the zip_code columns of the 'df_users' DataFrame\n",
    "#\n",
    "# Hints:\n",
    "#  - This will be several lines of code, looping through the DataFrame, \n",
    "#      getting each zip code, checking the geographic subdivision with \n",
    "#      the population in zip_dict, and settig the zip_code accordingly. \n",
    "\n",
    "# YOUR CODE HERE\n",
    "for i,row in df_users.iterrows():\n",
    "    z = int(str(row['zip'])[:3])\n",
    "    if (zip_dict[z] <= 20000):\n",
    "        df_users['zip'][i] = 0\n",
    "    else:\n",
    "        df_users['zip'][i] = z\n"
   ]
  },
  {
   "cell_type": "code",
   "execution_count": 28,
   "metadata": {
    "collapsed": false,
    "deletable": false,
    "editable": false,
    "nbgrader": {
     "checksum": "d473dbc119ea6380f28821d47b742d55",
     "grade": true,
     "grade_id": "2g-tests",
     "locked": true,
     "points": 1.25,
     "schema_version": 1,
     "solution": false
    }
   },
   "outputs": [],
   "source": [
    "assert len(df_users) == 990\n",
    "assert sum(df_users.zip == 0) == 2\n",
    "assert df_users.ix[671, 'zip'] == 0\n",
    "\n"
   ]
  },
  {
   "cell_type": "code",
   "execution_count": 29,
   "metadata": {
    "collapsed": true,
    "deletable": false,
    "nbgrader": {
     "checksum": "771d37a03c03fbaf4ce75134398259c8",
     "grade": false,
     "grade_id": "2h",
     "locked": false,
     "schema_version": 1,
     "solution": true
    }
   },
   "outputs": [],
   "source": [
    "##########################################################\n",
    "# 2h) Save out the properly anonymized data to json file #\n",
    "##########################################################\n",
    "\n",
    "# Save out df_users as a json file, called 'real_anon_user_dat.json'\n",
    "\n",
    "# YOUR CODE HERE\n",
    "df_users.to_json('real_anon_user_dat.json')"
   ]
  },
  {
   "cell_type": "code",
   "execution_count": 31,
   "metadata": {
    "collapsed": false,
    "deletable": false,
    "editable": false,
    "nbgrader": {
     "checksum": "5f1b809a9d61919bc0dd68fda1aedc1b",
     "grade": true,
     "grade_id": "2h-tests",
     "locked": true,
     "points": 0.5,
     "schema_version": 1,
     "solution": false
    }
   },
   "outputs": [],
   "source": [
    "assert isinstance(pd.read_json('real_anon_user_dat.json'), pd.DataFrame)\n"
   ]
  },
  {
   "cell_type": "markdown",
   "metadata": {
    "deletable": false,
    "editable": false,
    "nbgrader": {
     "checksum": "d2d93ad8046edf965c498ec0bf27f765",
     "grade": false,
     "grade_id": "finish",
     "locked": true,
     "schema_version": 1,
     "solution": false
    }
   },
   "source": [
    "Congrats, you're done! The users identities are much more protected now. \n",
    "\n",
    "Submit this notebook file to TritonED."
   ]
  }
 ],
 "metadata": {
  "kernelspec": {
   "display_name": "Python 3",
   "language": "python",
   "name": "python3"
  },
  "language_info": {
   "codemirror_mode": {
    "name": "ipython",
    "version": 3
   },
   "file_extension": ".py",
   "mimetype": "text/x-python",
   "name": "python",
   "nbconvert_exporter": "python",
   "pygments_lexer": "ipython3",
   "version": "3.6.0"
  }
 },
 "nbformat": 4,
 "nbformat_minor": 2
}
