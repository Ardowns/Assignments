{
 "cells": [
  {
   "cell_type": "markdown",
   "metadata": {},
   "source": [
    "# COGS 108 - Assignment 4: Project Proposal"
   ]
  },
  {
   "cell_type": "markdown",
   "metadata": {},
   "source": [
    "## Important\n",
    "\n",
    "- Make sure all group member (3-5 people) are listed in the group members section.\n",
    "- ONE, and only one, member of your group should upload this notebook to TritonED. \n",
    "- Each member of the group will receive the same grade on this assignment. \n",
    "- Keep the file name the same: submit the file 'A4_ProjectProposal.ipynb'"
   ]
  },
  {
   "cell_type": "markdown",
   "metadata": {},
   "source": [
    "## Overview"
   ]
  },
  {
   "cell_type": "markdown",
   "metadata": {},
   "source": [
    "Read the project description, and detailed instructions for this assignment, in the 'A4_ProjectOutlineAndProposal' pdf."
   ]
  },
  {
   "cell_type": "markdown",
   "metadata": {},
   "source": [
    "## Group Members: Fill in the Student ID's of each group member here\n",
    "Andrew Downs: A12151613\n",
    "Bree Hoover: A11942202\n",
    "Tori Buss: A11962321\n",
    "Christine Zhu: A12125179\n",
    "Zac Goldberg: A11493779"
   ]
  },
  {
   "cell_type": "markdown",
   "metadata": {},
   "source": [
    "### Research Question\n",
    "\n",
    "What is your research question? (1-2 sentences)"
   ]
  },
  {
   "cell_type": "markdown",
   "metadata": {},
   "source": [
    "How do different types of energies affect the death rates of each state? Furthermore, is there a correlation between coal production and pneumonia?"
   ]
  },
  {
   "cell_type": "markdown",
   "metadata": {},
   "source": [
    "### Hypothesis\n",
    "\n",
    "What is your prediction (2-3 sentences)"
   ]
  },
  {
   "cell_type": "markdown",
   "metadata": {},
   "source": [
    "Cleaner energy states will have lower death rates than those that use “dirty” energy. We expect to find a positive correlation between coal production and pneumonia deaths."
   ]
  },
  {
   "cell_type": "markdown",
   "metadata": {},
   "source": [
    "### Dataset(s)\n",
    "\n",
    "What data will you use to answer your question? Describe the dataset in terms of number of observations, what kind of features it contains, etc. You must use at least one dataset containing at least approximately 1000 observations (if your data are smaller but you feel they are sufficient, email Prof. Voytek). You are welcome (and in fact recommended) to find multiple datasets! If you do so, describe each one, and briefly explain how you will combine them together. "
   ]
  },
  {
   "cell_type": "markdown",
   "metadata": {},
   "source": [
    "Death Datasets\n",
    "https://catalog.data.gov/dataset/deaths-in-122-u-s-cities-1962-2016-122-cities-mortality-reporting-system\n",
    "This dataset includes information on the death rates by each state by year. It also gives specific info on pneumonia deaths.\n",
    "\n",
    "Global Energy Reports\n",
    "https://datasource.kapsarc.org/explore/dataset/world-power-plants-list/?disjunctive.power_plant_type&disjunctive.country&disjunctive.state\n",
    "10,000 data points\n",
    "This dataset includes details on types of energy sources in countries across the globe. It includes categories of : Energy capacity, Location of power plant, and type of power. \n",
    "\n",
    "In order to test our research question we intended to clean and sort out these data sets first. We will only use data from the United States for the Energy dataset. Next we will only be looking at the pneumonia deaths column in our Death dataset. We will then combine these sets using the merge function on the “state” column to pair pneumonia deaths to the type of energy produced in that state. \n"
   ]
  },
  {
   "cell_type": "markdown",
   "metadata": {},
   "source": [
    "### Background & Prior Work\n",
    "\n",
    "Why is this question of interest, what background information led you to your hypothesis, and why is this important?\n",
    "\n",
    "Find some relevant prior work, and reference them. Even if you think you have a totally novel question, find the most similar prior work you can, and discuss how it relates to your project. \n",
    "\n",
    "References can be research publications, but they need not be: blogs, github repositories, company websites, etc., are viable references if they are relevant to your project.\n",
    "\n",
    "(2-3 paragraphs, including at least 2 references)"
   ]
  },
  {
   "cell_type": "markdown",
   "metadata": {},
   "source": [
    "Background:\n",
    "With the rising popularity of renewable energy sources and the condemnation of coal and natural gas we wanted to identify any correlations between these “dirty” energies and public health. We believe that if our hypothesis holds true, we can accelerate transition into renewable energies and a healthier tomorrow. \n",
    "\n",
    "https://www.researchgate.net/publication/304422160_Effect_of_Using_Renewable_Energy_in_Public_Health\n",
    "\n",
    "“Pollution from vehicles and coal powered power plants can cause serious environmental hazards. Pollution related diseases range from mild to severe and can significantly affect one’s quality of life. Air pollution can result in asthma, chronic obstructive pulmonary disorder or COPD and lung cancer. Long-term exposure may increase respiratory infections in general population. Children and the elderly are most vulnerable to fine particulate matter and other airborne toxicants.”\n",
    "We formulated our hypothesis as a result of our research because we found supporting evidence that linked fossil fuel production to an effect on human health. We wanted to focus on the pneumonia data because it is a respiratory infection that could result from certain emissions from certain energies. \n",
    "This topic is very important because it affects future generations and not only their life expectancy but their quality of life due to possible decreased respiratory illnesses. Furthermore, this line of research could inspire future scientists to boldly pursue new, cleaner methods of energy production.\n",
    "\n",
    "http://www.healthyenergyinitiative.org/wp-content/uploads/2015/10/Health-Impacts-of-Energy-Choices_DigitalVersion.pdf\n",
    "“Achieving healthy energy requires reducing dependence on dirty sources of energy, using energy more efficiently, and increasing investment in clean, renewable energy choices. Together, these strategies yield health and climate co-benefits: reduced greenhouse gas emissions, reduced air pollution, and improvements to public health.”\n",
    "\n",
    "We are going to further expand upon what it means to improve public health by comparing death rates to types of energy production in each state of the US. We hope to find that states that use cleaner energy have lower death rates."
   ]
  },
  {
   "cell_type": "markdown",
   "metadata": {},
   "source": [
    "### Proposed Methods\n",
    "\n",
    "What methods will you use to analyze your data?\n",
    "\n",
    "- How 'clean' is the data? To the extent that it requires cleaning, how will you do so?\n",
    "- How will you analyze the data? Be as specific as you can. Briefly mention any pre-processing steps that are required for your methods (for example, checking data distributions and performing any transformations that may be required). Include a brief outline of how you will apply your chosen method(s). \n",
    "- What do you plan to report? Briefly mention any key visualizations you plan to create, and/or the kind of result you will be able to report that addresses your question (this could be, for example, the outcome of some statistical test(s), prediction error on a model, a model fit parameter, etc.).\n",
    "- Include a list of packages you expect to use for you project. If you plan to use packages we have not used in class, add a very brief description about them (a few words is sufficient). "
   ]
  },
  {
   "cell_type": "markdown",
   "metadata": {},
   "source": [
    "   As it stands our data cannot just be used and analyzed off the bat. Cleaning needs to take place in the form of filtering our useless data (all the data that is not in the us/all data that is not focused on pneumonia deaths). Next we need to organize our data by state and in type of energy produced. We then need to compile state data into a single category so we don't have huge points of overlapping and hard to read data. \n",
    "\tAs mentioned above, in order to analyze our data we will have to take several transformation of our data. First, we only want US data. Next we want that data sorted in alphabetical order by state. Then we will filter out all of the death data that does not include pneumonia. From here we will then drop all data before 2010 (as it does not correspond to our energy data dates). Then we will combine our data states so that we can then compare deaths directly to states. From here we will have to divide each state into percentage of energy production (E.G 50% coal, 20% nuclear, etc). This will allow us to see deaths to coal production and allow us to make insights. Additional transformations we could take would include dropping all data that is not coal related, but then this may narrow our insights. \n",
    "    We plan to report easy to read visuals that link increased death rates to coal production. This can be done using comparison bar graphs, statistical increases or decreases in comparison to other states, and perhaps creating a predictive model that can extrapolate our data. We do not expect to get picture perfect data reports, but we can be confident that our results will have some significance. \n",
    "\n",
    "Packages we plan to use:\n",
    "- a Pandas\n",
    "- b Numpy\n",
    "- c matplotlib.pyplot\n",
    "We may use others as we proceed"
   ]
  },
  {
   "cell_type": "markdown",
   "metadata": {},
   "source": [
    "### Discussion\n",
    "\n",
    "What are the pitfalls and potential confounds of your data and/or methods? For example, how might biases in your data sources or analyses influence your interpretations? What will you do if you methods don't work and/or your hypotheses are wrong?\n",
    "\n",
    "(2-3 paragraphs)"
   ]
  },
  {
   "cell_type": "markdown",
   "metadata": {},
   "source": [
    "   Anything we find can only claim to be correlation not causation. We have to be careful in our analysis to acknowledge the possibility of other factors that may attribute to a respiratory infection like pneumonia. The energy data itself could possibly have a bias towards renewable energy sources, and the death data could not be as accurate. These biases may play a role in the way we interpret the data for our hypothesis. For example, if the data about the deaths is inaccurate, then our results may be skewed. \n",
    "\tIf our hypothesis is wrong, then we cannot establish a correlation between dirty energy and pneumonia. If our methods do not work properly, then we can reference different data sets to more accurately identify any correlations between health and energy. We can also, compare different categories within our data sets. In conclusion we believe that this project is a win/win, a situation in which we can draw meaningful conclusions regardless of if our hypothesis is confirmed or denied. "
   ]
  }
 ],
 "metadata": {
  "kernelspec": {
   "display_name": "Python 3",
   "language": "python",
   "name": "python3"
  },
  "language_info": {
   "codemirror_mode": {
    "name": "ipython",
    "version": 3
   },
   "file_extension": ".py",
   "mimetype": "text/x-python",
   "name": "python",
   "nbconvert_exporter": "python",
   "pygments_lexer": "ipython3",
   "version": "3.6.0"
  }
 },
 "nbformat": 4,
 "nbformat_minor": 2
}
